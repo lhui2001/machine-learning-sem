{
 "cells": [
  {
   "cell_type": "code",
   "execution_count": null,
   "id": "80b993c0-7f91-485a-bd21-d6eba4b2fbc6",
   "metadata": {},
   "outputs": [],
   "source": [
    "# single image\n",
    "# number of unique colors in manual annotation\n",
    "import numpy as np\n",
    "img = cv2.imread('C:/Users/lucyh/Downloads/SegmentationObject/Mock 2 T0-0008-5k_#path788.png') \n",
    "colors, counts = np.unique(img.reshape(-1,3), axis=0, return_counts=True)\n",
    "len(counts)"
   ]
  },
  {
   "cell_type": "code",
   "execution_count": 6,
   "id": "ac77f854-81d4-45de-bd81-c79e0fd79fbb",
   "metadata": {},
   "outputs": [],
   "source": [
    "# iterate through directory\n",
    "\n",
    "import numpy as np\n",
    "import imageio.v2 as imageio\n",
    "import os\n",
    "import pandas as pd\n",
    "import cv2\n",
    "\n",
    "def main():\n",
    "    outPath = \"C:/Users/lucyh/Desktop/Single Class/Images/2023-05-25/\"\n",
    "    path = \"C:/Users/lucyh/Desktop/Single Class/Images/2023-05-25/Object/\"\n",
    "\n",
    "    data = []\n",
    "    image = []\n",
    "        \n",
    "    # iterate through the images of the folder\n",
    "    for image_path in os.listdir(path):\n",
    "\n",
    "        # create the full input path and read the image\n",
    "        input_path = os.path.join(path, image_path)\n",
    "        image_to_segment = cv2.imread(input_path)\n",
    "        \n",
    "        # process the image\n",
    "        colors, counts = np.unique(image_to_segment.reshape(-1,3), axis=0, return_counts=True)\n",
    "        count = len(counts) - 1\n",
    "        data.append(count)\n",
    "        image.append(image_path)\n",
    "        \n",
    "    # export measurements\n",
    "    df = pd.DataFrame(list(zip(image , data)), columns =['Image', 'Number of lamellipodia'])\n",
    "    basename_without_ext = os.path.basename(os.path.dirname(path)) \n",
    "    df.to_excel(outPath + basename_without_ext + \"_Count.xlsx\", index=False)\n",
    "    \n",
    "if __name__ == '__main__':\n",
    "    main()"
   ]
  },
  {
   "cell_type": "code",
   "execution_count": 8,
   "id": "197cd3e0-94a2-4214-b36b-0a296e50921b",
   "metadata": {},
   "outputs": [],
   "source": [
    "# calculate average values\n",
    "\n",
    "import pandas as pd\n",
    "\n",
    "def main():\n",
    "    \n",
    "    outPath = \"C:/Users/lucyh/Desktop/Single Class/Images/2023-05-25/[0] Excel/\"\n",
    "    path = \"C:/Users/lucyh/Desktop/Single Class/Images/2023-05-25/[0] Excel/\"\n",
    "    \n",
    "    folder = []\n",
    "    x = []\n",
    "    s = []\n",
    "    \n",
    "    # iterate through excel files of the folder\n",
    "    for file in os.listdir(path):\n",
    "\n",
    "        # create the full input path and read the image\n",
    "        input_path = os.path.join(path, file)\n",
    "        df = pd.read_excel(input_path)\n",
    "        \n",
    "        # calculate mean\n",
    "        mean = df[\"Number of lamellipodia\"].mean()\n",
    "        sd = df[\"Number of lamellipodia\"].std()\n",
    "        \n",
    "        # save values\n",
    "        folder.append(file)\n",
    "        x.append(mean)\n",
    "        s.append(sd)\n",
    "    \n",
    "    # export values\n",
    "    df = pd.DataFrame(list(zip(folder, x, s)), columns = ['File', 'Average number of lamellipodia', 'Standard deviation'])\n",
    "    df.to_excel(outPath + \"Average.xlsx\", index=False)\n",
    "                    \n",
    "if __name__ == '__main__':\n",
    "    main()"
   ]
  }
 ],
 "metadata": {
  "kernelspec": {
   "display_name": "Python 3 (ipykernel)",
   "language": "python",
   "name": "python3"
  },
  "language_info": {
   "codemirror_mode": {
    "name": "ipython",
    "version": 3
   },
   "file_extension": ".py",
   "mimetype": "text/x-python",
   "name": "python",
   "nbconvert_exporter": "python",
   "pygments_lexer": "ipython3",
   "version": "3.10.9"
  }
 },
 "nbformat": 4,
 "nbformat_minor": 5
}
