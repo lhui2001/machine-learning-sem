{
 "cells": [
  {
   "cell_type": "code",
   "execution_count": 9,
   "id": "e445c002-db28-4096-8409-5168b6e670a1",
   "metadata": {},
   "outputs": [],
   "source": [
    "import pandas as pd\n",
    "import os\n",
    "\n",
    "def main():\n",
    "    \n",
    "    outPath = \"C:/Users/lucyh/Desktop/Images/Samar_SEM_final validation series 2023-07-22/\"\n",
    "    path = \"C:/Users/lucyh/Desktop/Images/Samar_SEM_final validation series 2023-07-22/Xi-final validation series/\"\n",
    "    \n",
    "    folder = []\n",
    "    \n",
    "    # iterate through images of the folder\n",
    "    for image_path in os.listdir(path):\n",
    "\n",
    "        # save values\n",
    "        folder.append(image_path)\n",
    "    \n",
    "    # export values\n",
    "    df = pd.DataFrame(list(zip(folder)), columns = ['Image'])\n",
    "    df.to_excel(outPath + \"Xi-final validation series.xlsx\", index=False)\n",
    "                    \n",
    "if __name__ == '__main__':\n",
    "    main()"
   ]
  }
 ],
 "metadata": {
  "kernelspec": {
   "display_name": "Python 3 (ipykernel)",
   "language": "python",
   "name": "python3"
  },
  "language_info": {
   "codemirror_mode": {
    "name": "ipython",
    "version": 3
   },
   "file_extension": ".py",
   "mimetype": "text/x-python",
   "name": "python",
   "nbconvert_exporter": "python",
   "pygments_lexer": "ipython3",
   "version": "3.10.9"
  }
 },
 "nbformat": 4,
 "nbformat_minor": 5
}
