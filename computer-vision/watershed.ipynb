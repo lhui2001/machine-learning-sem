{
 "cells": [
  {
   "cell_type": "code",
   "execution_count": null,
   "id": "3471c6e8-cd56-46d2-9d7b-76a02ffe418d",
   "metadata": {},
   "outputs": [],
   "source": [
    "# https://scikit-image.org/docs/dev/auto_examples/applications/plot_human_mitosis.html\n",
    "\n",
    "import matplotlib.pyplot as plt\n",
    "import numpy as np\n",
    "from scipy import ndimage as ndi\n",
    "\n",
    "from skimage import (\n",
    "    color, feature, filters, measure, morphology, segmentation, util\n",
    ")\n",
    "\n",
    "# import SEM image and convert to binary\n",
    "image = cv2.imread('C:/Users/.tiff')\n",
    "image = image[:,:,0]\n",
    "\n",
    "fig, ax = plt.subplots()\n",
    "ax.imshow(image, cmap='gray')\n",
    "plt.show()"
   ]
  },
  {
   "cell_type": "code",
   "execution_count": null,
   "id": "d61df1d2-a74e-43b4-b254-e6a99b569f97",
   "metadata": {},
   "outputs": [],
   "source": [
    "# Otsu thresholding\n",
    "thresholds = filters.threshold_multiotsu(image, classes=3)\n",
    "regions = np.digitize(image, bins=thresholds)\n",
    "\n",
    "fig, ax = plt.subplots(ncols=2, figsize=(10, 5))\n",
    "ax[0].imshow(image)\n",
    "ax[0].set_title('Original')\n",
    "ax[0].axis('off')\n",
    "ax[1].imshow(regions)\n",
    "ax[1].set_title('Multi-Otsu thresholding')\n",
    "ax[1].axis('off')\n",
    "plt.show()"
   ]
  },
  {
   "cell_type": "code",
   "execution_count": null,
   "id": "48e4b363-2042-4763-864e-08f20486ccd0",
   "metadata": {},
   "outputs": [],
   "source": [
    "# include pixels above value 1. background pixels are 0. \n",
    "cells = image > thresholds[1]"
   ]
  },
  {
   "cell_type": "code",
   "execution_count": null,
   "id": "2de37fa1-7da2-44a8-8ff6-30a770a40195",
   "metadata": {},
   "outputs": [],
   "source": [
    "# watershed segmentation \n",
    "distance = ndi.distance_transform_edt(cells)\n",
    "\n",
    "local_max_coords = feature.peak_local_max(distance, min_distance=5)\n",
    "local_max_mask = np.zeros(distance.shape, dtype=bool)\n",
    "local_max_mask[tuple(local_max_coords.T)] = True\n",
    "markers = measure.label(local_max_mask)\n",
    "\n",
    "segmented_cells = segmentation.watershed(-distance, markers, mask=cells)"
   ]
  },
  {
   "cell_type": "code",
   "execution_count": null,
   "id": "077633aa-cf3e-4135-9996-a877d1f016da",
   "metadata": {},
   "outputs": [],
   "source": [
    "# visualize segmentation\n",
    "fig, ax = plt.subplots(ncols=2, figsize=(10, 5))\n",
    "ax[0].imshow(cells, cmap='gray')\n",
    "ax[0].set_title('Overlapping cells')\n",
    "ax[0].axis('off')\n",
    "ax[1].imshow(color.label2rgb(segmented_cells, bg_label=0))\n",
    "ax[1].set_title('Segmented cells')\n",
    "ax[1].axis('off')\n",
    "plt.show()"
   ]
  },
  {
   "cell_type": "code",
   "execution_count": null,
   "id": "71d0830a-48a0-4bc7-8d31-9a3a8343e058",
   "metadata": {},
   "outputs": [],
   "source": [
    "# visualize number of lamellipodia\n",
    "color_labels = color.label2rgb(segmented_cells, image, alpha=0.4, bg_label=0)\n",
    "\n",
    "fig, ax = plt.subplots(figsize=(5, 5))\n",
    "ax.imshow(color_labels)\n",
    "ax.set_title('Segmentation result over raw image')\n",
    "plt.show()"
   ]
  },
  {
   "cell_type": "code",
   "execution_count": null,
   "id": "cc3380db-8807-481d-b505-78237134f868",
   "metadata": {},
   "outputs": [],
   "source": [
    "# number of lamellipodia\n",
    "print(segmented_cells.max())"
   ]
  }
 ],
 "metadata": {
  "kernelspec": {
   "display_name": "Python 3 (ipykernel)",
   "language": "python",
   "name": "python3"
  },
  "language_info": {
   "codemirror_mode": {
    "name": "ipython",
    "version": 3
   },
   "file_extension": ".py",
   "mimetype": "text/x-python",
   "name": "python",
   "nbconvert_exporter": "python",
   "pygments_lexer": "ipython3",
   "version": "3.10.9"
  }
 },
 "nbformat": 4,
 "nbformat_minor": 5
}
