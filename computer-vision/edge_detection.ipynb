{
 "cells": [
  {
   "cell_type": "code",
   "execution_count": null,
   "id": "69c50533-7efc-451a-8a4a-cdd3f5472b9e",
   "metadata": {},
   "outputs": [],
   "source": [
    "# Resources\n",
    "# https://www.youtube.com/watch?v=rRcwuQGDFOA\n",
    "# https://github.com/computervisionpro/yt/blob/main/counting/tutorial9.py\n",
    "\n",
    "import cv2\n",
    "import numpy as np\n",
    "import matplotlib.pyplot as plt\n",
    "\n",
    "image = cv2.imread('C:/Users/.tiff')\n",
    "gray = cv2.cvtColor(image, cv2.COLOR_BGR2GRAY)\n",
    "plt.imshow(gray, cmap='gray');\n",
    "\n",
    "blur = cv2.GaussianBlur(gray, (11,11),0)\n",
    "plt.imshow(blur, cmap='gray')\n",
    "\n",
    "canny = cv2.Canny(blur, 0, 40, 3)\n",
    "plt.imshow(canny, cmap='gray')\n",
    "\n",
    "dilated = cv2.dilate(canny, (1,1), iterations = 2)\n",
    "plt.imshow(dilated, cmap='gray')\n",
    "\n",
    "(cnt, heirarchy) = cv2.findContours(dilated.copy(), cv2.RETR_EXTERNAL, cv2.CHAIN_APPROX_NONE)\n",
    "rgb = cv2.cvtColor(image, cv2.COLOR_BGR2RGB)\n",
    "cv2.drawContours(rgb, cnt, -1, (0,255,0), 2)\n",
    "\n",
    "plt.imshow(rgb)\n",
    "\n",
    "print('Lamellipodia: ', len(cnt))\n",
    "plt.show()"
   ]
  }
 ],
 "metadata": {
  "kernelspec": {
   "display_name": "Python 3 (ipykernel)",
   "language": "python",
   "name": "python3"
  },
  "language_info": {
   "codemirror_mode": {
    "name": "ipython",
    "version": 3
   },
   "file_extension": ".py",
   "mimetype": "text/x-python",
   "name": "python",
   "nbconvert_exporter": "python",
   "pygments_lexer": "ipython3",
   "version": "3.10.9"
  }
 },
 "nbformat": 4,
 "nbformat_minor": 5
}
