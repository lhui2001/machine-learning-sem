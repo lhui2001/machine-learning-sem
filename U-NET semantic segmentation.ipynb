{
 "cells": [
  {
   "cell_type": "code",
   "execution_count": null,
   "id": "7fc8e7be-fd90-42b5-b8b3-de00a7a40539",
   "metadata": {},
   "outputs": [],
   "source": [
    "# Resources\n",
    "# U-NET: https://arxiv.org/pdf/1505.04597.pdf \n",
    "# Semantic segmentation: https://youtu.be/csFGTLT6_WQ\n",
    "# Annotation tool: https://app.cvat.ai/tasks?page=1 "
   ]
  },
  {
   "cell_type": "code",
   "execution_count": null,
   "id": "fc4500e4-9538-43da-b42c-4d4a28502d14",
   "metadata": {},
   "outputs": [],
   "source": [
    "# Create masks of SEM images using the annotation tool \n",
    "# Iterate through and change masks to binary\n",
    "\n",
    "from scipy import ndimage, misc\n",
    "import numpy as np\n",
    "import os\n",
    "import cv2\n",
    "import imageio.v2 as imageio\n",
    "\n",
    "def main():\n",
    "    outPath = \"C:/Users/\"\n",
    "    path = \"C:/Users/\"\n",
    "\n",
    "    # iterate through the mask images of the folder\n",
    "    for image_path in os.listdir(path):\n",
    "\n",
    "        # create the full input path and read the image\n",
    "        input_path = os.path.join(path, image_path)\n",
    "        image_to_mask = imageio.imread(input_path)\n",
    "\n",
    "        # change masks to binary \n",
    "        binary = np.where(image_to_mask>0, 255, image_to_mask)\n",
    "\n",
    "        # create full output path, 'example.jpg' \n",
    "        # becomes 'rotate_example.jpg', save the file to disk\n",
    "        fullpath = os.path.join(outPath, 'binary_'+image_path)\n",
    "        imageio.imwrite(fullpath, binary)\n",
    "\n",
    "if __name__ == '__main__':\n",
    "    main()"
   ]
  },
  {
   "cell_type": "code",
   "execution_count": null,
   "id": "88fcf0eb-8334-4ca5-8ea5-ddf8db685d7d",
   "metadata": {},
   "outputs": [],
   "source": [
    "# Iterate through and resize all SEM images and binary masks to fit U-NET model\n",
    "\n",
    "from simple_unet_model import simple_unet_model   \n",
    "from keras.utils import normalize\n",
    "import os\n",
    "import cv2\n",
    "from PIL import Image\n",
    "import numpy as np\n",
    "from matplotlib import pyplot as plt\n",
    "\n",
    "image_directory = 'C:/Users/'\n",
    "mask_directory = 'C:/Users/'\n",
    "\n",
    "SIZE = 256\n",
    "image_dataset = []  \n",
    "mask_dataset = []  \n",
    "\n",
    "images = os.listdir(image_directory)\n",
    "for i, image_name in enumerate(images):    \n",
    "    if (image_name.split('.')[1] == 'tiff'):\n",
    "        image = cv2.imread(image_directory+image_name, 0)\n",
    "        image = Image.fromarray(image)\n",
    "        image = image.resize((SIZE, SIZE))\n",
    "        image_dataset.append(np.array(image))\n",
    "        \n",
    "masks = os.listdir(mask_directory)\n",
    "for i, image_name in enumerate(masks):\n",
    "    if (image_name.split('.')[1] == 'png'):\n",
    "        image = cv2.imread(mask_directory+image_name, 0)\n",
    "        image = Image.fromarray(image)\n",
    "        image = image.resize((SIZE, SIZE))\n",
    "        mask_dataset.append(np.array(image))"
   ]
  },
  {
   "cell_type": "code",
   "execution_count": null,
   "id": "41e4dbff-68e4-4946-8f11-94c4e41af85c",
   "metadata": {},
   "outputs": [],
   "source": [
    "# Normalize all SEM images and binary masks\n",
    "\n",
    "image_dataset = np.expand_dims(normalize(np.array(image_dataset), axis=1),3)\n",
    "mask_dataset = np.expand_dims((np.array(mask_dataset)),3) /255.\n",
    "\n",
    "from sklearn.model_selection import train_test_split\n",
    "X_train, X_test, y_train, y_test = train_test_split(image_dataset, mask_dataset, test_size = 0.10, random_state = 0)"
   ]
  },
  {
   "cell_type": "code",
   "execution_count": null,
   "id": "0b128019-afe8-496f-b93b-ba01cd558554",
   "metadata": {},
   "outputs": [],
   "source": [
    "# run the U-NET model\n",
    "\n",
    "IMG_HEIGHT = image_dataset.shape[1]\n",
    "IMG_WIDTH  = image_dataset.shape[2]\n",
    "IMG_CHANNELS = image_dataset.shape[3]\n",
    "\n",
    "def get_model():\n",
    "    return simple_unet_model(IMG_HEIGHT, IMG_WIDTH, IMG_CHANNELS)\n",
    "\n",
    "model = get_model()\n",
    "\n",
    "history = model.fit(X_train, y_train, \n",
    "                    batch_size = 16, \n",
    "                    verbose=1, \n",
    "                    epochs=200, \n",
    "                    validation_data=(X_test, y_test), \n",
    "                    shuffle=False)\n",
    "\n",
    "model.save('file.hdf5')"
   ]
  },
  {
   "cell_type": "code",
   "execution_count": null,
   "id": "02348001-7f54-474e-8ac8-553dbea85100",
   "metadata": {},
   "outputs": [],
   "source": [
    "# IOU score\n",
    "\n",
    "y_pred=model.predict(X_test)\n",
    "y_pred_thresholded = y_pred > 0.5\n",
    "\n",
    "intersection = np.logical_and(y_test, y_pred_thresholded)\n",
    "union = np.logical_or(y_test, y_pred_thresholded)\n",
    "iou_score = np.sum(intersection) / np.sum(union)\n",
    "print(\"IoU score is: \", iou_score)"
   ]
  }
 ],
 "metadata": {
  "kernelspec": {
   "display_name": "Python 3 (ipykernel)",
   "language": "python",
   "name": "python3"
  },
  "language_info": {
   "codemirror_mode": {
    "name": "ipython",
    "version": 3
   },
   "file_extension": ".py",
   "mimetype": "text/x-python",
   "name": "python",
   "nbconvert_exporter": "python",
   "pygments_lexer": "ipython3",
   "version": "3.10.9"
  }
 },
 "nbformat": 4,
 "nbformat_minor": 5
}
