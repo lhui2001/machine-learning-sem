{
 "cells": [
  {
   "cell_type": "code",
   "execution_count": null,
   "id": "38e5b270-f573-4d51-8220-41adf0e27e3b",
   "metadata": {},
   "outputs": [],
   "source": [
    "from simple_unet_model import simple_unet_model \n",
    "from keras.utils import normalize\n",
    "import os\n",
    "import cv2\n",
    "from PIL import Image\n",
    "import numpy as np\n",
    "from matplotlib import pyplot as plt\n",
    "from skimage import measure, color, io\n",
    "\n",
    "\n",
    "IMG_HEIGHT = 256\n",
    "IMG_WIDTH  = 256\n",
    "IMG_CHANNELS = 1\n",
    "\n",
    "def get_model():\n",
    "    return simple_unet_model(IMG_HEIGHT, IMG_WIDTH, IMG_CHANNELS)\n",
    "\n",
    "# load the model and corresponding weights\n",
    "\n",
    "model = get_model()\n",
    "model.load_weights('file.hdf5')\n",
    "\n",
    "# load and process the test image - image that needs to be segmented. \n",
    "test_img = cv2.imread('C:/Users/.tiff', 0)\n",
    "test_img = Image.fromarray(test_img)\n",
    "test_img = test_img.resize((IMG_HEIGHT, IMG_WIDTH))\n",
    "test_img_norm = np.expand_dims(normalize(np.array(test_img), axis=1),2)\n",
    "test_img_norm=test_img_norm[:,:,0][:,:,None]\n",
    "test_img_input=np.expand_dims(test_img_norm, 0)\n",
    "\n",
    "# predict and threshold for values above 0.7 probability\n",
    "segmented = (model.predict(test_img_input)[0,:,:,0] > 0.7).astype(np.uint8)\n",
    "\n",
    "# print testing and segmented image\n",
    "plt.figure(figsize=(8, 8))\n",
    "plt.subplot(221)\n",
    "plt.title('Testing Image')\n",
    "plt.imshow(test_img, cmap='gray')\n",
    "plt.subplot(222)\n",
    "plt.title('Segmented Image')\n",
    "plt.imshow(segmented, cmap='gray')\n",
    "plt.show()\n",
    "\n",
    "# save U-NET segmented image\n",
    "plt.imsave('C:/Users/.jpg', segmented, cmap='gray')"
   ]
  },
  {
   "cell_type": "code",
   "execution_count": null,
   "id": "90f7d087-de08-4b8f-877f-a8f5d83b0d15",
   "metadata": {},
   "outputs": [],
   "source": [
    "# https://scikit-image.org/docs/dev/auto_examples/applications/plot_human_mitosis.html\n",
    "\n",
    "import matplotlib.pyplot as plt\n",
    "import numpy as np\n",
    "from scipy import ndimage as ndi\n",
    "\n",
    "from skimage import (\n",
    "    color, feature, filters, measure, morphology, segmentation, util\n",
    ")\n",
    "from skimage.data import human_mitosis\n",
    "\n",
    "# import U-NET segmented images\n",
    "image = cv2.imread('C:/Users/.jpg')\n",
    "image = image[:,:,0]\n",
    "\n",
    "fig, ax = plt.subplots()\n",
    "ax.imshow(image, cmap='gray')\n",
    "plt.show()"
   ]
  },
  {
   "cell_type": "code",
   "execution_count": null,
   "id": "8fafea7d-a922-4962-821b-3ae3d6d6b16d",
   "metadata": {},
   "outputs": [],
   "source": [
    "# Otsu thresholding\n",
    "thresholds = filters.threshold_multiotsu(image, classes=3)\n",
    "regions = np.digitize(image, bins=thresholds)\n",
    "\n",
    "fig, ax = plt.subplots(ncols=2, figsize=(10, 5))\n",
    "ax[0].imshow(image)\n",
    "ax[0].set_title('Original')\n",
    "ax[0].axis('off')\n",
    "ax[1].imshow(regions)\n",
    "ax[1].set_title('Multi-Otsu thresholding')\n",
    "ax[1].axis('off')\n",
    "plt.show()"
   ]
  },
  {
   "cell_type": "code",
   "execution_count": null,
   "id": "31a48140-8401-4749-b800-8ffa76e270f6",
   "metadata": {},
   "outputs": [],
   "source": [
    "# include pixels above value 0\n",
    "cells = image > thresholds[0]"
   ]
  },
  {
   "cell_type": "code",
   "execution_count": null,
   "id": "819d38a0-2263-4f32-b11b-eeac1b362ec6",
   "metadata": {},
   "outputs": [],
   "source": [
    "# watershed segmentation \n",
    "distance = ndi.distance_transform_edt(cells)\n",
    "\n",
    "local_max_coords = feature.peak_local_max(distance, min_distance=5)\n",
    "local_max_mask = np.zeros(distance.shape, dtype=bool)\n",
    "local_max_mask[tuple(local_max_coords.T)] = True\n",
    "markers = measure.label(local_max_mask)\n",
    "\n",
    "segmented_cells = segmentation.watershed(-distance, markers, mask=cells)"
   ]
  },
  {
   "cell_type": "code",
   "execution_count": null,
   "id": "7fbd1733-0ff8-4a45-b379-3b72918c35cc",
   "metadata": {},
   "outputs": [],
   "source": [
    "# visualize segmentation\n",
    "fig, ax = plt.subplots(ncols=2, figsize=(10, 5))\n",
    "ax[0].imshow(cells, cmap='gray')\n",
    "ax[0].set_title('Overlapping cells')\n",
    "ax[0].axis('off')\n",
    "ax[1].imshow(color.label2rgb(segmented_cells, bg_label=0))\n",
    "ax[1].set_title('Segmented cells')\n",
    "ax[1].axis('off')\n",
    "plt.show()"
   ]
  },
  {
   "cell_type": "code",
   "execution_count": null,
   "id": "0b5046c0-4299-4b65-bb26-ae1205ad3a32",
   "metadata": {},
   "outputs": [],
   "source": [
    "# visualize number of lamellipodia\n",
    "color_labels = color.label2rgb(segmented_cells, image, alpha=0.4, bg_label=0)\n",
    "\n",
    "fig, ax = plt.subplots(figsize=(5, 5))\n",
    "ax.imshow(color_labels)\n",
    "ax.set_title('Segmentation result over raw image')\n",
    "plt.show()"
   ]
  },
  {
   "cell_type": "code",
   "execution_count": null,
   "id": "950481f4-14c2-4865-9527-381b7e64051b",
   "metadata": {},
   "outputs": [],
   "source": [
    "# number of lamellipodia\n",
    "print(segmented_cells.max())"
   ]
  }
 ],
 "metadata": {
  "kernelspec": {
   "display_name": "Python 3 (ipykernel)",
   "language": "python",
   "name": "python3"
  },
  "language_info": {
   "codemirror_mode": {
    "name": "ipython",
    "version": 3
   },
   "file_extension": ".py",
   "mimetype": "text/x-python",
   "name": "python",
   "nbconvert_exporter": "python",
   "pygments_lexer": "ipython3",
   "version": "3.10.9"
  }
 },
 "nbformat": 4,
 "nbformat_minor": 5
}
